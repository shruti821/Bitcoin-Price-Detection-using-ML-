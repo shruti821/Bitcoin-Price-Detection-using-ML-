{
  "nbformat": 4,
  "nbformat_minor": 0,
  "metadata": {
    "colab": {
      "name": "Bitcoin_price Prediction by LSTM",
      "provenance": [],
      "collapsed_sections": []
    },
    "kernelspec": {
      "name": "python3",
      "display_name": "Python 3"
    },
    "language_info": {
      "name": "python"
    }
  },
  "cells": [
    {
      "cell_type": "code",
      "metadata": {
        "id": "TToUg0-91XuN"
      },
      "source": [
        "import pandas as pd\n",
        "import numpy as np\n",
        "import matplotlib.pyplot as plt\n",
        "import seaborn as sns\n",
        "import keras as ks\n",
        "import tensorflow as tf"
      ],
      "execution_count": null,
      "outputs": []
    },
    {
      "cell_type": "code",
      "metadata": {
        "colab": {
          "base_uri": "https://localhost:8080/"
        },
        "id": "lXsgQt2K1Z7c",
        "outputId": "37a9d609-937c-439f-ea31-c482209586fb"
      },
      "source": [
        "from google.colab import drive\n",
        "drive.mount(\"/content/gdrive\")"
      ],
      "execution_count": null,
      "outputs": [
        {
          "output_type": "stream",
          "text": [
            "Mounted at /content/gdrive\n"
          ],
          "name": "stdout"
        }
      ]
    },
    {
      "cell_type": "code",
      "metadata": {
        "colab": {
          "resources": {
            "http://localhost:8080/nbextensions/google.colab/files.js": {
              "data": "Ly8gQ29weXJpZ2h0IDIwMTcgR29vZ2xlIExMQwovLwovLyBMaWNlbnNlZCB1bmRlciB0aGUgQXBhY2hlIExpY2Vuc2UsIFZlcnNpb24gMi4wICh0aGUgIkxpY2Vuc2UiKTsKLy8geW91IG1heSBub3QgdXNlIHRoaXMgZmlsZSBleGNlcHQgaW4gY29tcGxpYW5jZSB3aXRoIHRoZSBMaWNlbnNlLgovLyBZb3UgbWF5IG9idGFpbiBhIGNvcHkgb2YgdGhlIExpY2Vuc2UgYXQKLy8KLy8gICAgICBodHRwOi8vd3d3LmFwYWNoZS5vcmcvbGljZW5zZXMvTElDRU5TRS0yLjAKLy8KLy8gVW5sZXNzIHJlcXVpcmVkIGJ5IGFwcGxpY2FibGUgbGF3IG9yIGFncmVlZCB0byBpbiB3cml0aW5nLCBzb2Z0d2FyZQovLyBkaXN0cmlidXRlZCB1bmRlciB0aGUgTGljZW5zZSBpcyBkaXN0cmlidXRlZCBvbiBhbiAiQVMgSVMiIEJBU0lTLAovLyBXSVRIT1VUIFdBUlJBTlRJRVMgT1IgQ09ORElUSU9OUyBPRiBBTlkgS0lORCwgZWl0aGVyIGV4cHJlc3Mgb3IgaW1wbGllZC4KLy8gU2VlIHRoZSBMaWNlbnNlIGZvciB0aGUgc3BlY2lmaWMgbGFuZ3VhZ2UgZ292ZXJuaW5nIHBlcm1pc3Npb25zIGFuZAovLyBsaW1pdGF0aW9ucyB1bmRlciB0aGUgTGljZW5zZS4KCi8qKgogKiBAZmlsZW92ZXJ2aWV3IEhlbHBlcnMgZm9yIGdvb2dsZS5jb2xhYiBQeXRob24gbW9kdWxlLgogKi8KKGZ1bmN0aW9uKHNjb3BlKSB7CmZ1bmN0aW9uIHNwYW4odGV4dCwgc3R5bGVBdHRyaWJ1dGVzID0ge30pIHsKICBjb25zdCBlbGVtZW50ID0gZG9jdW1lbnQuY3JlYXRlRWxlbWVudCgnc3BhbicpOwogIGVsZW1lbnQudGV4dENvbnRlbnQgPSB0ZXh0OwogIGZvciAoY29uc3Qga2V5IG9mIE9iamVjdC5rZXlzKHN0eWxlQXR0cmlidXRlcykpIHsKICAgIGVsZW1lbnQuc3R5bGVba2V5XSA9IHN0eWxlQXR0cmlidXRlc1trZXldOwogIH0KICByZXR1cm4gZWxlbWVudDsKfQoKLy8gTWF4IG51bWJlciBvZiBieXRlcyB3aGljaCB3aWxsIGJlIHVwbG9hZGVkIGF0IGEgdGltZS4KY29uc3QgTUFYX1BBWUxPQURfU0laRSA9IDEwMCAqIDEwMjQ7CgpmdW5jdGlvbiBfdXBsb2FkRmlsZXMoaW5wdXRJZCwgb3V0cHV0SWQpIHsKICBjb25zdCBzdGVwcyA9IHVwbG9hZEZpbGVzU3RlcChpbnB1dElkLCBvdXRwdXRJZCk7CiAgY29uc3Qgb3V0cHV0RWxlbWVudCA9IGRvY3VtZW50LmdldEVsZW1lbnRCeUlkKG91dHB1dElkKTsKICAvLyBDYWNoZSBzdGVwcyBvbiB0aGUgb3V0cHV0RWxlbWVudCB0byBtYWtlIGl0IGF2YWlsYWJsZSBmb3IgdGhlIG5leHQgY2FsbAogIC8vIHRvIHVwbG9hZEZpbGVzQ29udGludWUgZnJvbSBQeXRob24uCiAgb3V0cHV0RWxlbWVudC5zdGVwcyA9IHN0ZXBzOwoKICByZXR1cm4gX3VwbG9hZEZpbGVzQ29udGludWUob3V0cHV0SWQpOwp9CgovLyBUaGlzIGlzIHJvdWdobHkgYW4gYXN5bmMgZ2VuZXJhdG9yIChub3Qgc3VwcG9ydGVkIGluIHRoZSBicm93c2VyIHlldCksCi8vIHdoZXJlIHRoZXJlIGFyZSBtdWx0aXBsZSBhc3luY2hyb25vdXMgc3RlcHMgYW5kIHRoZSBQeXRob24gc2lkZSBpcyBnb2luZwovLyB0byBwb2xsIGZvciBjb21wbGV0aW9uIG9mIGVhY2ggc3RlcC4KLy8gVGhpcyB1c2VzIGEgUHJvbWlzZSB0byBibG9jayB0aGUgcHl0aG9uIHNpZGUgb24gY29tcGxldGlvbiBvZiBlYWNoIHN0ZXAsCi8vIHRoZW4gcGFzc2VzIHRoZSByZXN1bHQgb2YgdGhlIHByZXZpb3VzIHN0ZXAgYXMgdGhlIGlucHV0IHRvIHRoZSBuZXh0IHN0ZXAuCmZ1bmN0aW9uIF91cGxvYWRGaWxlc0NvbnRpbnVlKG91dHB1dElkKSB7CiAgY29uc3Qgb3V0cHV0RWxlbWVudCA9IGRvY3VtZW50LmdldEVsZW1lbnRCeUlkKG91dHB1dElkKTsKICBjb25zdCBzdGVwcyA9IG91dHB1dEVsZW1lbnQuc3RlcHM7CgogIGNvbnN0IG5leHQgPSBzdGVwcy5uZXh0KG91dHB1dEVsZW1lbnQubGFzdFByb21pc2VWYWx1ZSk7CiAgcmV0dXJuIFByb21pc2UucmVzb2x2ZShuZXh0LnZhbHVlLnByb21pc2UpLnRoZW4oKHZhbHVlKSA9PiB7CiAgICAvLyBDYWNoZSB0aGUgbGFzdCBwcm9taXNlIHZhbHVlIHRvIG1ha2UgaXQgYXZhaWxhYmxlIHRvIHRoZSBuZXh0CiAgICAvLyBzdGVwIG9mIHRoZSBnZW5lcmF0b3IuCiAgICBvdXRwdXRFbGVtZW50Lmxhc3RQcm9taXNlVmFsdWUgPSB2YWx1ZTsKICAgIHJldHVybiBuZXh0LnZhbHVlLnJlc3BvbnNlOwogIH0pOwp9CgovKioKICogR2VuZXJhdG9yIGZ1bmN0aW9uIHdoaWNoIGlzIGNhbGxlZCBiZXR3ZWVuIGVhY2ggYXN5bmMgc3RlcCBvZiB0aGUgdXBsb2FkCiAqIHByb2Nlc3MuCiAqIEBwYXJhbSB7c3RyaW5nfSBpbnB1dElkIEVsZW1lbnQgSUQgb2YgdGhlIGlucHV0IGZpbGUgcGlja2VyIGVsZW1lbnQuCiAqIEBwYXJhbSB7c3RyaW5nfSBvdXRwdXRJZCBFbGVtZW50IElEIG9mIHRoZSBvdXRwdXQgZGlzcGxheS4KICogQHJldHVybiB7IUl0ZXJhYmxlPCFPYmplY3Q+fSBJdGVyYWJsZSBvZiBuZXh0IHN0ZXBzLgogKi8KZnVuY3Rpb24qIHVwbG9hZEZpbGVzU3RlcChpbnB1dElkLCBvdXRwdXRJZCkgewogIGNvbnN0IGlucHV0RWxlbWVudCA9IGRvY3VtZW50LmdldEVsZW1lbnRCeUlkKGlucHV0SWQpOwogIGlucHV0RWxlbWVudC5kaXNhYmxlZCA9IGZhbHNlOwoKICBjb25zdCBvdXRwdXRFbGVtZW50ID0gZG9jdW1lbnQuZ2V0RWxlbWVudEJ5SWQob3V0cHV0SWQpOwogIG91dHB1dEVsZW1lbnQuaW5uZXJIVE1MID0gJyc7CgogIGNvbnN0IHBpY2tlZFByb21pc2UgPSBuZXcgUHJvbWlzZSgocmVzb2x2ZSkgPT4gewogICAgaW5wdXRFbGVtZW50LmFkZEV2ZW50TGlzdGVuZXIoJ2NoYW5nZScsIChlKSA9PiB7CiAgICAgIHJlc29sdmUoZS50YXJnZXQuZmlsZXMpOwogICAgfSk7CiAgfSk7CgogIGNvbnN0IGNhbmNlbCA9IGRvY3VtZW50LmNyZWF0ZUVsZW1lbnQoJ2J1dHRvbicpOwogIGlucHV0RWxlbWVudC5wYXJlbnRFbGVtZW50LmFwcGVuZENoaWxkKGNhbmNlbCk7CiAgY2FuY2VsLnRleHRDb250ZW50ID0gJ0NhbmNlbCB1cGxvYWQnOwogIGNvbnN0IGNhbmNlbFByb21pc2UgPSBuZXcgUHJvbWlzZSgocmVzb2x2ZSkgPT4gewogICAgY2FuY2VsLm9uY2xpY2sgPSAoKSA9PiB7CiAgICAgIHJlc29sdmUobnVsbCk7CiAgICB9OwogIH0pOwoKICAvLyBXYWl0IGZvciB0aGUgdXNlciB0byBwaWNrIHRoZSBmaWxlcy4KICBjb25zdCBmaWxlcyA9IHlpZWxkIHsKICAgIHByb21pc2U6IFByb21pc2UucmFjZShbcGlja2VkUHJvbWlzZSwgY2FuY2VsUHJvbWlzZV0pLAogICAgcmVzcG9uc2U6IHsKICAgICAgYWN0aW9uOiAnc3RhcnRpbmcnLAogICAgfQogIH07CgogIGNhbmNlbC5yZW1vdmUoKTsKCiAgLy8gRGlzYWJsZSB0aGUgaW5wdXQgZWxlbWVudCBzaW5jZSBmdXJ0aGVyIHBpY2tzIGFyZSBub3QgYWxsb3dlZC4KICBpbnB1dEVsZW1lbnQuZGlzYWJsZWQgPSB0cnVlOwoKICBpZiAoIWZpbGVzKSB7CiAgICByZXR1cm4gewogICAgICByZXNwb25zZTogewogICAgICAgIGFjdGlvbjogJ2NvbXBsZXRlJywKICAgICAgfQogICAgfTsKICB9CgogIGZvciAoY29uc3QgZmlsZSBvZiBmaWxlcykgewogICAgY29uc3QgbGkgPSBkb2N1bWVudC5jcmVhdGVFbGVtZW50KCdsaScpOwogICAgbGkuYXBwZW5kKHNwYW4oZmlsZS5uYW1lLCB7Zm9udFdlaWdodDogJ2JvbGQnfSkpOwogICAgbGkuYXBwZW5kKHNwYW4oCiAgICAgICAgYCgke2ZpbGUudHlwZSB8fCAnbi9hJ30pIC0gJHtmaWxlLnNpemV9IGJ5dGVzLCBgICsKICAgICAgICBgbGFzdCBtb2RpZmllZDogJHsKICAgICAgICAgICAgZmlsZS5sYXN0TW9kaWZpZWREYXRlID8gZmlsZS5sYXN0TW9kaWZpZWREYXRlLnRvTG9jYWxlRGF0ZVN0cmluZygpIDoKICAgICAgICAgICAgICAgICAgICAgICAgICAgICAgICAgICAgJ24vYSd9IC0gYCkpOwogICAgY29uc3QgcGVyY2VudCA9IHNwYW4oJzAlIGRvbmUnKTsKICAgIGxpLmFwcGVuZENoaWxkKHBlcmNlbnQpOwoKICAgIG91dHB1dEVsZW1lbnQuYXBwZW5kQ2hpbGQobGkpOwoKICAgIGNvbnN0IGZpbGVEYXRhUHJvbWlzZSA9IG5ldyBQcm9taXNlKChyZXNvbHZlKSA9PiB7CiAgICAgIGNvbnN0IHJlYWRlciA9IG5ldyBGaWxlUmVhZGVyKCk7CiAgICAgIHJlYWRlci5vbmxvYWQgPSAoZSkgPT4gewogICAgICAgIHJlc29sdmUoZS50YXJnZXQucmVzdWx0KTsKICAgICAgfTsKICAgICAgcmVhZGVyLnJlYWRBc0FycmF5QnVmZmVyKGZpbGUpOwogICAgfSk7CiAgICAvLyBXYWl0IGZvciB0aGUgZGF0YSB0byBiZSByZWFkeS4KICAgIGxldCBmaWxlRGF0YSA9IHlpZWxkIHsKICAgICAgcHJvbWlzZTogZmlsZURhdGFQcm9taXNlLAogICAgICByZXNwb25zZTogewogICAgICAgIGFjdGlvbjogJ2NvbnRpbnVlJywKICAgICAgfQogICAgfTsKCiAgICAvLyBVc2UgYSBjaHVua2VkIHNlbmRpbmcgdG8gYXZvaWQgbWVzc2FnZSBzaXplIGxpbWl0cy4gU2VlIGIvNjIxMTU2NjAuCiAgICBsZXQgcG9zaXRpb24gPSAwOwogICAgd2hpbGUgKHBvc2l0aW9uIDwgZmlsZURhdGEuYnl0ZUxlbmd0aCkgewogICAgICBjb25zdCBsZW5ndGggPSBNYXRoLm1pbihmaWxlRGF0YS5ieXRlTGVuZ3RoIC0gcG9zaXRpb24sIE1BWF9QQVlMT0FEX1NJWkUpOwogICAgICBjb25zdCBjaHVuayA9IG5ldyBVaW50OEFycmF5KGZpbGVEYXRhLCBwb3NpdGlvbiwgbGVuZ3RoKTsKICAgICAgcG9zaXRpb24gKz0gbGVuZ3RoOwoKICAgICAgY29uc3QgYmFzZTY0ID0gYnRvYShTdHJpbmcuZnJvbUNoYXJDb2RlLmFwcGx5KG51bGwsIGNodW5rKSk7CiAgICAgIHlpZWxkIHsKICAgICAgICByZXNwb25zZTogewogICAgICAgICAgYWN0aW9uOiAnYXBwZW5kJywKICAgICAgICAgIGZpbGU6IGZpbGUubmFtZSwKICAgICAgICAgIGRhdGE6IGJhc2U2NCwKICAgICAgICB9LAogICAgICB9OwogICAgICBwZXJjZW50LnRleHRDb250ZW50ID0KICAgICAgICAgIGAke01hdGgucm91bmQoKHBvc2l0aW9uIC8gZmlsZURhdGEuYnl0ZUxlbmd0aCkgKiAxMDApfSUgZG9uZWA7CiAgICB9CiAgfQoKICAvLyBBbGwgZG9uZS4KICB5aWVsZCB7CiAgICByZXNwb25zZTogewogICAgICBhY3Rpb246ICdjb21wbGV0ZScsCiAgICB9CiAgfTsKfQoKc2NvcGUuZ29vZ2xlID0gc2NvcGUuZ29vZ2xlIHx8IHt9OwpzY29wZS5nb29nbGUuY29sYWIgPSBzY29wZS5nb29nbGUuY29sYWIgfHwge307CnNjb3BlLmdvb2dsZS5jb2xhYi5fZmlsZXMgPSB7CiAgX3VwbG9hZEZpbGVzLAogIF91cGxvYWRGaWxlc0NvbnRpbnVlLAp9Owp9KShzZWxmKTsK",
              "ok": true,
              "headers": [
                [
                  "content-type",
                  "application/javascript"
                ]
              ],
              "status": 200,
              "status_text": ""
            }
          },
          "base_uri": "https://localhost:8080/",
          "height": 73
        },
        "id": "o4LNnnBHtuPV",
        "outputId": "4ff50d66-d193-4bcc-a974-bedb3165e7ed"
      },
      "source": [
        "from google.colab import files\n",
        "uploaded = files.upload()"
      ],
      "execution_count": null,
      "outputs": [
        {
          "output_type": "display_data",
          "data": {
            "text/html": [
              "\n",
              "     <input type=\"file\" id=\"files-20b918a0-c38f-4556-b208-f3bf48287ebe\" name=\"files[]\" multiple disabled\n",
              "        style=\"border:none\" />\n",
              "     <output id=\"result-20b918a0-c38f-4556-b208-f3bf48287ebe\">\n",
              "      Upload widget is only available when the cell has been executed in the\n",
              "      current browser session. Please rerun this cell to enable.\n",
              "      </output>\n",
              "      <script src=\"/nbextensions/google.colab/files.js\"></script> "
            ],
            "text/plain": [
              "<IPython.core.display.HTML object>"
            ]
          },
          "metadata": {
            "tags": []
          }
        },
        {
          "output_type": "stream",
          "text": [
            "Saving bitstampUSD_1-min_data_2012-01-01_to_2021-03-31.csv to bitstampUSD_1-min_data_2012-01-01_to_2021-03-31.csv\n"
          ],
          "name": "stdout"
        }
      ]
    },
    {
      "cell_type": "code",
      "metadata": {
        "id": "RSLkuc2B2NPL"
      },
      "source": [
        "data = pd.read_csv(\"BTCUSD_1min.csv\")"
      ],
      "execution_count": null,
      "outputs": []
    },
    {
      "cell_type": "code",
      "metadata": {
        "colab": {
          "base_uri": "https://localhost:8080/"
        },
        "id": "WOk_7hymK8c6",
        "outputId": "18dc9505-ffe5-4501-cc2f-7e3dfe70fbdb"
      },
      "source": [
        "data.shape"
      ],
      "execution_count": null,
      "outputs": [
        {
          "output_type": "execute_result",
          "data": {
            "text/plain": [
              "(2283519, 8)"
            ]
          },
          "metadata": {
            "tags": []
          },
          "execution_count": 6
        }
      ]
    },
    {
      "cell_type": "code",
      "metadata": {
        "colab": {
          "base_uri": "https://localhost:8080/"
        },
        "id": "0mkwSKycL2sC",
        "outputId": "58a67bea-b76d-4bd0-9d53-3ce5ab1ccdde"
      },
      "source": [
        "data.isnull().sum()"
      ],
      "execution_count": null,
      "outputs": [
        {
          "output_type": "execute_result",
          "data": {
            "text/plain": [
              "Unix Timestamp    0\n",
              "Date              0\n",
              "Symbol            0\n",
              "Open              0\n",
              "High              0\n",
              "Low               0\n",
              "Close             0\n",
              "Volume            0\n",
              "dtype: int64"
            ]
          },
          "metadata": {
            "tags": []
          },
          "execution_count": 7
        }
      ]
    },
    {
      "cell_type": "code",
      "metadata": {
        "colab": {
          "base_uri": "https://localhost:8080/"
        },
        "id": "uwXKFXYpL6w8",
        "outputId": "2cb4736c-3dad-4972-8793-340947635936"
      },
      "source": [
        "data['Symbol'].unique()"
      ],
      "execution_count": null,
      "outputs": [
        {
          "output_type": "execute_result",
          "data": {
            "text/plain": [
              "array(['BTCUSD'], dtype=object)"
            ]
          },
          "metadata": {
            "tags": []
          },
          "execution_count": 8
        }
      ]
    },
    {
      "cell_type": "code",
      "metadata": {
        "id": "Vn73f4U-ON0a"
      },
      "source": [
        "import datetime"
      ],
      "execution_count": null,
      "outputs": []
    },
    {
      "cell_type": "code",
      "metadata": {
        "id": "6b5mhIDKPFEw"
      },
      "source": [
        "import os\n",
        "import warnings\n",
        "warnings.filterwarnings(action='ignore')\n",
        "warnings.filterwarnings(action='ignore', category=DeprecationWarning)\n",
        "warnings.filterwarnings(action='ignore', category=FutureWarning)\n",
        "\n",
        "# Library for Learning\n",
        "from sklearn.model_selection import train_test_split\n",
        "from sklearn.preprocessing import MinMaxScaler\n",
        "from keras.models import Sequential\n",
        "from keras.layers import Dense, LSTM, Dropout, GRU, Bidirectional\n",
        "from keras.optimizers import SGD\n",
        "import math\n",
        "from sklearn.metrics import mean_squared_error, mean_absolute_error"
      ],
      "execution_count": null,
      "outputs": []
    },
    {
      "cell_type": "code",
      "metadata": {
        "colab": {
          "base_uri": "https://localhost:8080/",
          "height": 294
        },
        "id": "NluqPD9rPJqx",
        "outputId": "140e2fc4-0b37-4498-bd33-4bd5c06088a0"
      },
      "source": [
        "data.describe()"
      ],
      "execution_count": null,
      "outputs": [
        {
          "output_type": "execute_result",
          "data": {
            "text/html": [
              "<div>\n",
              "<style scoped>\n",
              "    .dataframe tbody tr th:only-of-type {\n",
              "        vertical-align: middle;\n",
              "    }\n",
              "\n",
              "    .dataframe tbody tr th {\n",
              "        vertical-align: top;\n",
              "    }\n",
              "\n",
              "    .dataframe thead th {\n",
              "        text-align: right;\n",
              "    }\n",
              "</style>\n",
              "<table border=\"1\" class=\"dataframe\">\n",
              "  <thead>\n",
              "    <tr style=\"text-align: right;\">\n",
              "      <th></th>\n",
              "      <th>Unix Timestamp</th>\n",
              "      <th>Open</th>\n",
              "      <th>High</th>\n",
              "      <th>Low</th>\n",
              "      <th>Close</th>\n",
              "      <th>Volume</th>\n",
              "    </tr>\n",
              "  </thead>\n",
              "  <tbody>\n",
              "    <tr>\n",
              "      <th>count</th>\n",
              "      <td>2.283519e+06</td>\n",
              "      <td>2.283519e+06</td>\n",
              "      <td>2.283519e+06</td>\n",
              "      <td>2.283519e+06</td>\n",
              "      <td>2.283519e+06</td>\n",
              "      <td>2.283519e+06</td>\n",
              "    </tr>\n",
              "    <tr>\n",
              "      <th>mean</th>\n",
              "      <td>5.289278e+11</td>\n",
              "      <td>4.736700e+03</td>\n",
              "      <td>4.738834e+03</td>\n",
              "      <td>4.734627e+03</td>\n",
              "      <td>4.736704e+03</td>\n",
              "      <td>2.633344e+00</td>\n",
              "    </tr>\n",
              "    <tr>\n",
              "      <th>std</th>\n",
              "      <td>7.379146e+11</td>\n",
              "      <td>3.933689e+03</td>\n",
              "      <td>3.936325e+03</td>\n",
              "      <td>3.931061e+03</td>\n",
              "      <td>3.933689e+03</td>\n",
              "      <td>2.121513e+01</td>\n",
              "    </tr>\n",
              "    <tr>\n",
              "      <th>min</th>\n",
              "      <td>1.444312e+09</td>\n",
              "      <td>0.000000e+00</td>\n",
              "      <td>2.425000e+02</td>\n",
              "      <td>0.000000e+00</td>\n",
              "      <td>2.360000e+02</td>\n",
              "      <td>0.000000e+00</td>\n",
              "    </tr>\n",
              "    <tr>\n",
              "      <th>25%</th>\n",
              "      <td>1.478564e+09</td>\n",
              "      <td>7.176300e+02</td>\n",
              "      <td>7.176500e+02</td>\n",
              "      <td>7.176300e+02</td>\n",
              "      <td>7.176300e+02</td>\n",
              "      <td>0.000000e+00</td>\n",
              "    </tr>\n",
              "    <tr>\n",
              "      <th>50%</th>\n",
              "      <td>1.512817e+09</td>\n",
              "      <td>4.012380e+03</td>\n",
              "      <td>4.013270e+03</td>\n",
              "      <td>4.011690e+03</td>\n",
              "      <td>4.012390e+03</td>\n",
              "      <td>2.014884e-02</td>\n",
              "    </tr>\n",
              "    <tr>\n",
              "      <th>75%</th>\n",
              "      <td>1.549232e+12</td>\n",
              "      <td>7.838370e+03</td>\n",
              "      <td>7.843510e+03</td>\n",
              "      <td>7.834005e+03</td>\n",
              "      <td>7.838390e+03</td>\n",
              "      <td>1.000000e+00</td>\n",
              "    </tr>\n",
              "    <tr>\n",
              "      <th>max</th>\n",
              "      <td>1.586390e+12</td>\n",
              "      <td>1.999900e+04</td>\n",
              "      <td>1.999900e+04</td>\n",
              "      <td>1.999070e+04</td>\n",
              "      <td>1.999900e+04</td>\n",
              "      <td>8.264463e+03</td>\n",
              "    </tr>\n",
              "  </tbody>\n",
              "</table>\n",
              "</div>"
            ],
            "text/plain": [
              "       Unix Timestamp          Open  ...         Close        Volume\n",
              "count    2.283519e+06  2.283519e+06  ...  2.283519e+06  2.283519e+06\n",
              "mean     5.289278e+11  4.736700e+03  ...  4.736704e+03  2.633344e+00\n",
              "std      7.379146e+11  3.933689e+03  ...  3.933689e+03  2.121513e+01\n",
              "min      1.444312e+09  0.000000e+00  ...  2.360000e+02  0.000000e+00\n",
              "25%      1.478564e+09  7.176300e+02  ...  7.176300e+02  0.000000e+00\n",
              "50%      1.512817e+09  4.012380e+03  ...  4.012390e+03  2.014884e-02\n",
              "75%      1.549232e+12  7.838370e+03  ...  7.838390e+03  1.000000e+00\n",
              "max      1.586390e+12  1.999900e+04  ...  1.999900e+04  8.264463e+03\n",
              "\n",
              "[8 rows x 6 columns]"
            ]
          },
          "metadata": {
            "tags": []
          },
          "execution_count": 11
        }
      ]
    },
    {
      "cell_type": "code",
      "metadata": {
        "colab": {
          "base_uri": "https://localhost:8080/",
          "height": 807
        },
        "id": "l3CcTBP9PeDV",
        "outputId": "648e4dce-7b18-44ee-c031-75a35879bee0"
      },
      "source": [
        "a = data[\"Close\"][1200000:]\n",
        "close_price = np.array(a).reshape(-1,1)\n",
        "plt.figure(figsize=(14,6))\n",
        "plt.title(\"Bitcoin Closing Price\")\n",
        "plt.grid()\n",
        "plt.plot(close_price)\n",
        "\n",
        "sc = MinMaxScaler()\n",
        "close_priceSC = sc.fit_transform(close_price)\n",
        "plt.figure(figsize=(14,6))\n",
        "plt.title(\"Scaled\")\n",
        "plt.grid()\n",
        "plt.plot(close_priceSC)"
      ],
      "execution_count": null,
      "outputs": [
        {
          "output_type": "execute_result",
          "data": {
            "text/plain": [
              "[<matplotlib.lines.Line2D at 0x7fc7173a14d0>]"
            ]
          },
          "metadata": {
            "tags": []
          },
          "execution_count": 12
        },
        {
          "output_type": "display_data",
          "data": {
            "image/png": "[encoded data removed]",
            "text/plain": [
              "<Figure size 1008x432 with 1 Axes>"
            ]
          },
          "metadata": {
            "tags": [],
            "needs_background": "light"
          }
        },
        {
          "output_type": "display_data",
          "data": {
            "image/png": "[encoded data removed]",
            "text/plain": [
              "<Figure size 1008x432 with 1 Axes>"
            ]
          },
          "metadata": {
            "tags": [],
            "needs_background": "light"
          }
        }
      ]
    },
    {
      "cell_type": "code",
      "metadata": {
        "colab": {
          "base_uri": "https://localhost:8080/"
        },
        "id": "_eA3DkLnPrBk",
        "outputId": "85f461bf-4e0b-4bb3-aa3f-f415b71c551b"
      },
      "source": [
        "X = []\n",
        "y = []\n",
        "for i in range(60, len(close_priceSC)):\n",
        "    X.append(close_priceSC[i-60:i, 0])\n",
        "    y.append(close_priceSC[i,0])\n",
        "X, y = np.array(X), np.array(y)\n",
        "print(X.shape, y.shape)"
      ],
      "execution_count": null,
      "outputs": [
        {
          "output_type": "stream",
          "text": [
            "(1083459, 60) (1083459,)\n"
          ],
          "name": "stdout"
        }
      ]
    },
    {
      "cell_type": "code",
      "metadata": {
        "id": "3LONWGOoRkxz"
      },
      "source": [
        "X_train = X[:700000,:]\n",
        "X_test = X[700000:,:]\n",
        "\n",
        "y_train = y[:700000]\n",
        "y_test = y[700000:]"
      ],
      "execution_count": null,
      "outputs": []
    },
    {
      "cell_type": "code",
      "metadata": {
        "colab": {
          "base_uri": "https://localhost:8080/",
          "height": 278
        },
        "id": "fHHflJilRoNZ",
        "outputId": "7e33bade-6858-4e45-cb22-c7a3de7a8d30"
      },
      "source": [
        "plt.figure(figsize=(14,4))\n",
        "plt.plot(range(700000),y_train)\n",
        "plt.plot(range(700000, len(y)), y_test)\n",
        "plt.legend([\"Training\", \"Test\"])\n",
        "plt.grid()"
      ],
      "execution_count": null,
      "outputs": [
        {
          "output_type": "display_data",
          "data": {
            "image/png": "[encoded data removed]",
            "text/plain": [
              "<Figure size 1008x288 with 1 Axes>"
            ]
          },
          "metadata": {
            "tags": [],
            "needs_background": "light"
          }
        }
      ]
    },
    {
      "cell_type": "code",
      "metadata": {
        "id": "8kpkoPlYRq0E"
      },
      "source": [
        "X_train = X_train.reshape(-1,60,1)\n",
        "X_test = X_test.reshape(-1,60,1)"
      ],
      "execution_count": null,
      "outputs": []
    },
    {
      "cell_type": "code",
      "metadata": {
        "colab": {
          "base_uri": "https://localhost:8080/"
        },
        "id": "rD_BTZEfRt8A",
        "outputId": "d11b9df1-38e7-4173-c45a-5515ef309be2"
      },
      "source": [
        "%%time\n",
        "# The LSTM architecture\n",
        "regressor = Sequential()\n",
        "# First LSTM layer with Dropout regularisation\n",
        "regressor.add(LSTM(units=50, return_sequences=True, input_shape=(X_train.shape[1],1)))\n",
        "regressor.add(Dropout(0.2))\n",
        "# Second LSTM layer\n",
        "regressor.add(LSTM(units=50, return_sequences=True))\n",
        "regressor.add(Dropout(0.2))\n",
        "# Third LSTM layer\n",
        "regressor.add(LSTM(units=50, return_sequences=True))\n",
        "regressor.add(Dropout(0.5))\n",
        "# Fourth LSTM layer\n",
        "regressor.add(LSTM(units=50))\n",
        "regressor.add(Dropout(0.5))\n",
        "# The output layer\n",
        "regressor.add(Dense(units=1))\n",
        "\n",
        "# Compiling the RNN\n",
        "regressor.compile(optimizer='adam', loss='mean_absolute_error')\n",
        "# Fitting to the training set\n",
        "regressor.fit(X_train, y_train, epochs=1, batch_size=500)"
      ],
      "execution_count": null,
      "outputs": [
        {
          "output_type": "stream",
          "text": [
            "1400/1400 [==============================] - 956s 679ms/step - loss: 0.0323\n",
            "CPU times: user 26min 22s, sys: 1min 49s, total: 28min 12s\n",
            "Wall time: 15min 57s\n"
          ],
          "name": "stdout"
        }
      ]
    },
    {
      "cell_type": "code",
      "metadata": {
        "id": "vvioRWYUR5pH"
      },
      "source": [
        "y_pred = regressor.predict(X_test)\n",
        "MSE = mean_absolute_error(y_test, y_pred)\n"
      ],
      "execution_count": null,
      "outputs": []
    },
    {
      "cell_type": "code",
      "metadata": {
        "colab": {
          "base_uri": "https://localhost:8080/",
          "height": 421
        },
        "id": "C05FdYD-Wh4B",
        "outputId": "e32c89ab-79df-4be9-f753-cce6a25c557d"
      },
      "source": [
        "plt.figure(figsize=(14,6))\n",
        "plt.plot(sc.inverse_transform(y_test.reshape(-1,1)))\n",
        "plt.plot(sc.inverse_transform(y_pred.reshape(-1,1)))\n",
        "plt.title(\"Comparison with MAE {0:0.10f}\".format(MSE))\n",
        "plt.legend([\"Y\", \"Prediction\"])\n",
        "plt.xlabel(\"Timeframe\")\n",
        "plt.ylabel(\"Price\")"
      ],
      "execution_count": null,
      "outputs": [
        {
          "output_type": "execute_result",
          "data": {
            "text/plain": [
              "Text(0, 0.5, 'Price')"
            ]
          },
          "metadata": {
            "tags": []
          },
          "execution_count": 22
        },
        {
          "output_type": "display_data",
          "data": {
            "image/png": "[encoded data removed]",
            "text/plain": [
              "<Figure size 1008x432 with 1 Axes>"
            ]
          },
          "metadata": {
            "tags": [],
            "needs_background": "light"
          }
        }
      ]
    },
    {
      "cell_type": "code",
      "metadata": {
        "id": "W3xVZS2yYuVK"
      },
      "source": [
        "import keras as ks\n",
        "import tensorflow as tf\n",
        "# Part 2 - Building the ANN\n",
        "\n",
        "\n",
        "# Initializing the ANN\n",
        "\n",
        "ann = tf.keras.models.Sequential()"
      ],
      "execution_count": null,
      "outputs": []
    },
    {
      "cell_type": "code",
      "metadata": {
        "id": "6tRW4uEf5uN6"
      },
      "source": [
        "# Adding the input layer and the first hidden layer\n",
        "\n",
        "ann.add(tf.keras.layers.Dense(units=6, activation='relu'))"
      ],
      "execution_count": null,
      "outputs": []
    },
    {
      "cell_type": "code",
      "metadata": {
        "id": "7ptID726NPH6"
      },
      "source": [
        "# Adding the second hidden layer\n",
        "\n",
        "ann.add(tf.keras.layers.Dense(units=6, activation='relu'))"
      ],
      "execution_count": null,
      "outputs": []
    },
    {
      "cell_type": "code",
      "metadata": {
        "id": "5ijJGHMDNTjq"
      },
      "source": [
        "# Adding the output layer\n",
        "\n",
        "ann.add(tf.keras.layers.Dense(units=1, activation='sigmoid'))"
      ],
      "execution_count": null,
      "outputs": []
    },
    {
      "cell_type": "code",
      "metadata": {
        "id": "2s6mAK84NWXR"
      },
      "source": [
        "# Part 3 - Training the ANN\n",
        "\n",
        "\n",
        "# Compiling the ANN\n",
        "\n",
        "ann.compile(optimizer = 'adam', loss = 'binary_crossentropy', metrics = ['accuracy'])"
      ],
      "execution_count": null,
      "outputs": []
    },
    {
      "cell_type": "code",
      "metadata": {
        "colab": {
          "base_uri": "https://localhost:8080/"
        },
        "id": "iz43lFD_NZxy",
        "outputId": "95cb982e-af47-44bc-e6b7-d74ec6abb58c"
      },
      "source": [
        "# Training the ANN on the Training set\n",
        "\n",
        "ann.fit(X_train, y_train, batch_size = 32, epochs = 100)"
      ],
      "execution_count": null,
      "outputs": [
        {
          "output_type": "stream",
          "text": [
            "Epoch 1/100\n",
            "21875/21875 [==============================] - 29s 1ms/step - loss: 0.4464 - accuracy: 7.3358e-07\n",
            "Epoch 2/100\n",
            "21875/21875 [==============================] - 28s 1ms/step - loss: 0.4270 - accuracy: 7.8955e-07\n",
            "Epoch 3/100\n",
            "21875/21875 [==============================] - 28s 1ms/step - loss: 0.4269 - accuracy: 1.6824e-06\n",
            "Epoch 4/100\n",
            "21875/21875 [==============================] - 28s 1ms/step - loss: 0.4265 - accuracy: 8.6780e-07\n",
            "Epoch 5/100\n",
            "21875/21875 [==============================] - 28s 1ms/step - loss: 0.4269 - accuracy: 1.7978e-07\n",
            "Epoch 6/100\n",
            "21875/21875 [==============================] - 28s 1ms/step - loss: 0.4269 - accuracy: 2.1112e-06\n",
            "Epoch 7/100\n",
            "21875/21875 [==============================] - 28s 1ms/step - loss: 0.4268 - accuracy: 1.8147e-06\n",
            "Epoch 8/100\n",
            "21875/21875 [==============================] - 28s 1ms/step - loss: 0.4262 - accuracy: 5.9465e-07\n",
            "Epoch 9/100\n",
            "21875/21875 [==============================] - 28s 1ms/step - loss: 0.4268 - accuracy: 6.4080e-06\n",
            "Epoch 10/100\n",
            "21875/21875 [==============================] - 28s 1ms/step - loss: 0.4264 - accuracy: 2.1386e-06\n",
            "Epoch 11/100\n",
            "21875/21875 [==============================] - 28s 1ms/step - loss: 0.4264 - accuracy: 1.1202e-07\n",
            "Epoch 12/100\n",
            "21875/21875 [==============================] - 28s 1ms/step - loss: 0.4266 - accuracy: 1.7999e-06\n",
            "Epoch 13/100\n",
            "21875/21875 [==============================] - 28s 1ms/step - loss: 0.4268 - accuracy: 4.3677e-07\n",
            "Epoch 14/100\n",
            "21875/21875 [==============================] - 28s 1ms/step - loss: 0.4268 - accuracy: 2.8701e-07\n",
            "Epoch 15/100\n",
            "21875/21875 [==============================] - 28s 1ms/step - loss: 0.4265 - accuracy: 2.1768e-07\n",
            "Epoch 16/100\n",
            "21875/21875 [==============================] - 28s 1ms/step - loss: 0.4267 - accuracy: 1.8237e-07\n",
            "Epoch 17/100\n",
            "21875/21875 [==============================] - 28s 1ms/step - loss: 0.4265 - accuracy: 5.8890e-09\n",
            "Epoch 18/100\n",
            "21875/21875 [==============================] - 28s 1ms/step - loss: 0.4265 - accuracy: 5.9719e-06\n",
            "Epoch 19/100\n",
            "21875/21875 [==============================] - 28s 1ms/step - loss: 0.4265 - accuracy: 5.4235e-07\n",
            "Epoch 20/100\n",
            "21875/21875 [==============================] - 28s 1ms/step - loss: 0.4267 - accuracy: 2.2249e-06\n",
            "Epoch 21/100\n",
            "21875/21875 [==============================] - 28s 1ms/step - loss: 0.4265 - accuracy: 1.2019e-06\n",
            "Epoch 22/100\n",
            "21875/21875 [==============================] - 28s 1ms/step - loss: 0.4266 - accuracy: 1.0443e-06\n",
            "Epoch 23/100\n",
            "21875/21875 [==============================] - 28s 1ms/step - loss: 0.4266 - accuracy: 1.3297e-06\n",
            "Epoch 24/100\n",
            "21875/21875 [==============================] - 28s 1ms/step - loss: 0.4263 - accuracy: 1.2354e-06\n",
            "Epoch 25/100\n",
            "21875/21875 [==============================] - 28s 1ms/step - loss: 0.4269 - accuracy: 2.4114e-07\n",
            "Epoch 26/100\n",
            "21875/21875 [==============================] - 28s 1ms/step - loss: 0.4262 - accuracy: 2.8518e-07\n",
            "Epoch 27/100\n",
            "21875/21875 [==============================] - 28s 1ms/step - loss: 0.4262 - accuracy: 3.0265e-06\n",
            "Epoch 28/100\n",
            "21875/21875 [==============================] - 28s 1ms/step - loss: 0.4265 - accuracy: 4.5947e-07\n",
            "Epoch 29/100\n",
            "21875/21875 [==============================] - 28s 1ms/step - loss: 0.4265 - accuracy: 1.6749e-08\n",
            "Epoch 30/100\n",
            "21875/21875 [==============================] - 28s 1ms/step - loss: 0.4267 - accuracy: 4.1066e-06\n",
            "Epoch 31/100\n",
            "21875/21875 [==============================] - 28s 1ms/step - loss: 0.4266 - accuracy: 6.3045e-07\n",
            "Epoch 32/100\n",
            "21875/21875 [==============================] - 28s 1ms/step - loss: 0.4265 - accuracy: 3.5830e-07\n",
            "Epoch 33/100\n",
            "21875/21875 [==============================] - 28s 1ms/step - loss: 0.4265 - accuracy: 9.6918e-08\n",
            "Epoch 34/100\n",
            "21875/21875 [==============================] - 28s 1ms/step - loss: 0.4263 - accuracy: 1.7083e-06\n",
            "Epoch 35/100\n",
            "21875/21875 [==============================] - 28s 1ms/step - loss: 0.4266 - accuracy: 4.1155e-07\n",
            "Epoch 36/100\n",
            "21875/21875 [==============================] - 28s 1ms/step - loss: 0.4267 - accuracy: 8.9531e-06\n",
            "Epoch 37/100\n",
            "21875/21875 [==============================] - 28s 1ms/step - loss: 0.4265 - accuracy: 6.3319e-07\n",
            "Epoch 38/100\n",
            "21875/21875 [==============================] - 28s 1ms/step - loss: 0.4266 - accuracy: 5.6679e-08\n",
            "Epoch 39/100\n",
            "21875/21875 [==============================] - 28s 1ms/step - loss: 0.4266 - accuracy: 2.0313e-06\n",
            "Epoch 40/100\n",
            "21875/21875 [==============================] - 28s 1ms/step - loss: 0.4266 - accuracy: 3.0076e-06\n",
            "Epoch 41/100\n",
            "21875/21875 [==============================] - 28s 1ms/step - loss: 0.4267 - accuracy: 5.9832e-07\n",
            "Epoch 42/100\n",
            "21875/21875 [==============================] - 28s 1ms/step - loss: 0.4266 - accuracy: 9.5441e-07\n",
            "Epoch 43/100\n",
            "21875/21875 [==============================] - 28s 1ms/step - loss: 0.4266 - accuracy: 9.8817e-07\n",
            "Epoch 44/100\n",
            "21875/21875 [==============================] - 28s 1ms/step - loss: 0.4265 - accuracy: 3.0875e-06\n",
            "Epoch 45/100\n",
            "21875/21875 [==============================] - 28s 1ms/step - loss: 0.4266 - accuracy: 5.9981e-07\n",
            "Epoch 46/100\n",
            "21875/21875 [==============================] - 28s 1ms/step - loss: 0.4270 - accuracy: 3.5947e-07\n",
            "Epoch 47/100\n",
            "21875/21875 [==============================] - 28s 1ms/step - loss: 0.4267 - accuracy: 2.5403e-07\n",
            "Epoch 48/100\n",
            "21875/21875 [==============================] - 28s 1ms/step - loss: 0.4268 - accuracy: 1.2797e-06\n",
            "Epoch 49/100\n",
            "21875/21875 [==============================] - 28s 1ms/step - loss: 0.4264 - accuracy: 1.0951e-06\n",
            "Epoch 50/100\n",
            "21875/21875 [==============================] - 28s 1ms/step - loss: 0.4269 - accuracy: 2.0229e-06\n",
            "Epoch 51/100\n",
            "21875/21875 [==============================] - 28s 1ms/step - loss: 0.4266 - accuracy: 7.5557e-07\n",
            "Epoch 52/100\n",
            "21875/21875 [==============================] - 28s 1ms/step - loss: 0.4266 - accuracy: 3.2520e-06\n",
            "Epoch 53/100\n",
            "21875/21875 [==============================] - 28s 1ms/step - loss: 0.4268 - accuracy: 8.3494e-08\n",
            "Epoch 54/100\n",
            "21875/21875 [==============================] - 28s 1ms/step - loss: 0.4265 - accuracy: 9.5913e-07\n",
            "Epoch 55/100\n",
            "21875/21875 [==============================] - 28s 1ms/step - loss: 0.4267 - accuracy: 2.0146e-06\n",
            "Epoch 56/100\n",
            "21875/21875 [==============================] - 28s 1ms/step - loss: 0.4267 - accuracy: 2.7683e-07\n",
            "Epoch 57/100\n",
            "21875/21875 [==============================] - 28s 1ms/step - loss: 0.4266 - accuracy: 1.8047e-06\n",
            "Epoch 58/100\n",
            "21875/21875 [==============================] - 28s 1ms/step - loss: 0.4268 - accuracy: 1.7180e-06\n",
            "Epoch 59/100\n",
            "21875/21875 [==============================] - 28s 1ms/step - loss: 0.4245 - accuracy: 1.9446e-06\n",
            "Epoch 60/100\n",
            "21875/21875 [==============================] - 28s 1ms/step - loss: 0.4247 - accuracy: 2.7869e-06\n",
            "Epoch 61/100\n",
            "21875/21875 [==============================] - 28s 1ms/step - loss: 0.4244 - accuracy: 2.7302e-06\n",
            "Epoch 62/100\n",
            "21875/21875 [==============================] - 28s 1ms/step - loss: 0.4246 - accuracy: 8.2733e-08\n",
            "Epoch 63/100\n",
            "21875/21875 [==============================] - 28s 1ms/step - loss: 0.4245 - accuracy: 1.7624e-06\n",
            "Epoch 64/100\n",
            "21875/21875 [==============================] - 28s 1ms/step - loss: 0.4243 - accuracy: 2.2187e-07\n",
            "Epoch 65/100\n",
            "21875/21875 [==============================] - 28s 1ms/step - loss: 0.4247 - accuracy: 2.3234e-06\n",
            "Epoch 66/100\n",
            "21875/21875 [==============================] - 28s 1ms/step - loss: 0.4249 - accuracy: 7.5590e-07\n",
            "Epoch 67/100\n",
            "21875/21875 [==============================] - 28s 1ms/step - loss: 0.4247 - accuracy: 1.8555e-06\n",
            "Epoch 68/100\n",
            "21875/21875 [==============================] - 28s 1ms/step - loss: 0.4244 - accuracy: 1.0385e-06\n",
            "Epoch 69/100\n",
            "21875/21875 [==============================] - 28s 1ms/step - loss: 0.4247 - accuracy: 1.1704e-06\n",
            "Epoch 70/100\n",
            "21875/21875 [==============================] - 28s 1ms/step - loss: 0.4245 - accuracy: 4.5462e-07\n",
            "Epoch 71/100\n",
            "21875/21875 [==============================] - 28s 1ms/step - loss: 0.4246 - accuracy: 1.3083e-06\n",
            "Epoch 72/100\n",
            "21875/21875 [==============================] - 28s 1ms/step - loss: 0.4247 - accuracy: 8.8418e-08\n",
            "Epoch 73/100\n",
            "21875/21875 [==============================] - 28s 1ms/step - loss: 0.4244 - accuracy: 2.1858e-06\n",
            "Epoch 74/100\n",
            "21875/21875 [==============================] - 28s 1ms/step - loss: 0.4248 - accuracy: 2.1358e-07\n",
            "Epoch 75/100\n",
            "21875/21875 [==============================] - 28s 1ms/step - loss: 0.4245 - accuracy: 1.1126e-06\n",
            "Epoch 76/100\n",
            "21875/21875 [==============================] - 28s 1ms/step - loss: 0.4247 - accuracy: 3.2078e-07\n",
            "Epoch 77/100\n",
            "21875/21875 [==============================] - 28s 1ms/step - loss: 0.4245 - accuracy: 4.5445e-08\n",
            "Epoch 78/100\n",
            "21875/21875 [==============================] - 28s 1ms/step - loss: 0.4247 - accuracy: 1.2381e-06\n",
            "Epoch 79/100\n",
            "21875/21875 [==============================] - 28s 1ms/step - loss: 0.4244 - accuracy: 6.1942e-07\n",
            "Epoch 80/100\n",
            "21875/21875 [==============================] - 28s 1ms/step - loss: 0.4247 - accuracy: 2.6028e-07\n",
            "Epoch 81/100\n",
            "21875/21875 [==============================] - 28s 1ms/step - loss: 0.4245 - accuracy: 2.0879e-06\n",
            "Epoch 82/100\n",
            "21875/21875 [==============================] - 28s 1ms/step - loss: 0.4243 - accuracy: 2.4142e-06\n",
            "Epoch 83/100\n",
            "21875/21875 [==============================] - 28s 1ms/step - loss: 0.4247 - accuracy: 9.5033e-08\n",
            "Epoch 84/100\n",
            "21875/21875 [==============================] - 28s 1ms/step - loss: 0.4247 - accuracy: 1.4208e-06\n",
            "Epoch 85/100\n",
            "21875/21875 [==============================] - 28s 1ms/step - loss: 0.4245 - accuracy: 5.0635e-07\n",
            "Epoch 86/100\n",
            "21875/21875 [==============================] - 28s 1ms/step - loss: 0.4246 - accuracy: 2.6092e-06\n",
            "Epoch 87/100\n",
            "21875/21875 [==============================] - 28s 1ms/step - loss: 0.4247 - accuracy: 1.6792e-06\n",
            "Epoch 88/100\n",
            "21875/21875 [==============================] - 29s 1ms/step - loss: 0.4246 - accuracy: 5.5796e-08\n",
            "Epoch 89/100\n",
            "21875/21875 [==============================] - 29s 1ms/step - loss: 0.4249 - accuracy: 3.4554e-06\n",
            "Epoch 90/100\n",
            "21875/21875 [==============================] - 28s 1ms/step - loss: 0.4248 - accuracy: 1.4958e-06\n",
            "Epoch 91/100\n",
            "21875/21875 [==============================] - 29s 1ms/step - loss: 0.4250 - accuracy: 3.5345e-06\n",
            "Epoch 92/100\n",
            "21875/21875 [==============================] - 29s 1ms/step - loss: 0.4247 - accuracy: 1.1774e-06\n",
            "Epoch 93/100\n",
            "21875/21875 [==============================] - 29s 1ms/step - loss: 0.4245 - accuracy: 1.2611e-06\n",
            "Epoch 94/100\n",
            "21875/21875 [==============================] - 29s 1ms/step - loss: 0.4244 - accuracy: 8.4981e-07\n",
            "Epoch 95/100\n",
            "21875/21875 [==============================] - 28s 1ms/step - loss: 0.4247 - accuracy: 5.3597e-07\n",
            "Epoch 96/100\n",
            "21875/21875 [==============================] - 29s 1ms/step - loss: 0.4246 - accuracy: 9.9746e-07\n",
            "Epoch 97/100\n",
            "21875/21875 [==============================] - 29s 1ms/step - loss: 0.4247 - accuracy: 3.5394e-07\n",
            "Epoch 98/100\n",
            "21875/21875 [==============================] - 29s 1ms/step - loss: 0.4245 - accuracy: 4.9263e-06\n",
            "Epoch 99/100\n",
            "21875/21875 [==============================] - 29s 1ms/step - loss: 0.4246 - accuracy: 3.8118e-06\n",
            "Epoch 100/100\n",
            "21875/21875 [==============================] - 29s 1ms/step - loss: 0.4246 - accuracy: 4.5094e-07\n"
          ],
          "name": "stdout"
        },
        {
          "output_type": "execute_result",
          "data": {
            "text/plain": [
              "<tensorflow.python.keras.callbacks.History at 0x7fa4c1f31410>"
            ]
          },
          "metadata": {
            "tags": []
          },
          "execution_count": 28
        }
      ]
    },
    {
      "cell_type": "code",
      "metadata": {
        "id": "_a6-ENptNeHo"
      },
      "source": [
        "y_pred = ann.predict(X_test)\n",
        "\n",
        "y_pred = (y_pred > 0.5)"
      ],
      "execution_count": null,
      "outputs": []
    },
    {
      "cell_type": "code",
      "metadata": {
        "colab": {
          "base_uri": "https://localhost:8080/",
          "height": 415
        },
        "id": "6JlQp9fpYVH1",
        "outputId": "a527ff60-4ef7-4076-ebc4-037d6934bf3a"
      },
      "source": [
        "data"
      ],
      "execution_count": null,
      "outputs": [
        {
          "output_type": "execute_result",
          "data": {
            "text/html": [
              "<div>\n",
              "<style scoped>\n",
              "    .dataframe tbody tr th:only-of-type {\n",
              "        vertical-align: middle;\n",
              "    }\n",
              "\n",
              "    .dataframe tbody tr th {\n",
              "        vertical-align: top;\n",
              "    }\n",
              "\n",
              "    .dataframe thead th {\n",
              "        text-align: right;\n",
              "    }\n",
              "</style>\n",
              "<table border=\"1\" class=\"dataframe\">\n",
              "  <thead>\n",
              "    <tr style=\"text-align: right;\">\n",
              "      <th></th>\n",
              "      <th>Unix Timestamp</th>\n",
              "      <th>Date</th>\n",
              "      <th>Symbol</th>\n",
              "      <th>Open</th>\n",
              "      <th>High</th>\n",
              "      <th>Low</th>\n",
              "      <th>Close</th>\n",
              "      <th>Volume</th>\n",
              "    </tr>\n",
              "  </thead>\n",
              "  <tbody>\n",
              "    <tr>\n",
              "      <th>0</th>\n",
              "      <td>1586390400000</td>\n",
              "      <td>2020-04-09 00:00:00</td>\n",
              "      <td>BTCUSD</td>\n",
              "      <td>7369.60</td>\n",
              "      <td>7369.60</td>\n",
              "      <td>7348.47</td>\n",
              "      <td>7350.41</td>\n",
              "      <td>7.733528</td>\n",
              "    </tr>\n",
              "    <tr>\n",
              "      <th>1</th>\n",
              "      <td>1586390340000</td>\n",
              "      <td>2020-04-08 23:59:00</td>\n",
              "      <td>BTCUSD</td>\n",
              "      <td>7364.37</td>\n",
              "      <td>7369.60</td>\n",
              "      <td>7364.37</td>\n",
              "      <td>7369.60</td>\n",
              "      <td>1.310954</td>\n",
              "    </tr>\n",
              "    <tr>\n",
              "      <th>2</th>\n",
              "      <td>1586390280000</td>\n",
              "      <td>2020-04-08 23:58:00</td>\n",
              "      <td>BTCUSD</td>\n",
              "      <td>7360.89</td>\n",
              "      <td>7367.18</td>\n",
              "      <td>7360.89</td>\n",
              "      <td>7364.37</td>\n",
              "      <td>1.018774</td>\n",
              "    </tr>\n",
              "    <tr>\n",
              "      <th>3</th>\n",
              "      <td>1586390220000</td>\n",
              "      <td>2020-04-08 23:57:00</td>\n",
              "      <td>BTCUSD</td>\n",
              "      <td>7357.62</td>\n",
              "      <td>7366.12</td>\n",
              "      <td>7357.62</td>\n",
              "      <td>7360.89</td>\n",
              "      <td>0.026251</td>\n",
              "    </tr>\n",
              "    <tr>\n",
              "      <th>4</th>\n",
              "      <td>1586390160000</td>\n",
              "      <td>2020-04-08 23:56:00</td>\n",
              "      <td>BTCUSD</td>\n",
              "      <td>7370.71</td>\n",
              "      <td>7370.71</td>\n",
              "      <td>7357.62</td>\n",
              "      <td>7357.62</td>\n",
              "      <td>0.444867</td>\n",
              "    </tr>\n",
              "    <tr>\n",
              "      <th>...</th>\n",
              "      <td>...</td>\n",
              "      <td>...</td>\n",
              "      <td>...</td>\n",
              "      <td>...</td>\n",
              "      <td>...</td>\n",
              "      <td>...</td>\n",
              "      <td>...</td>\n",
              "      <td>...</td>\n",
              "    </tr>\n",
              "    <tr>\n",
              "      <th>2283514</th>\n",
              "      <td>1444311840</td>\n",
              "      <td>2015-10-08 13:44:00</td>\n",
              "      <td>BTCUSD</td>\n",
              "      <td>242.96</td>\n",
              "      <td>242.96</td>\n",
              "      <td>242.96</td>\n",
              "      <td>242.96</td>\n",
              "      <td>0.033491</td>\n",
              "    </tr>\n",
              "    <tr>\n",
              "      <th>2283515</th>\n",
              "      <td>1444311780</td>\n",
              "      <td>2015-10-08 13:43:00</td>\n",
              "      <td>BTCUSD</td>\n",
              "      <td>242.95</td>\n",
              "      <td>242.96</td>\n",
              "      <td>242.95</td>\n",
              "      <td>242.96</td>\n",
              "      <td>0.010000</td>\n",
              "    </tr>\n",
              "    <tr>\n",
              "      <th>2283516</th>\n",
              "      <td>1444311720</td>\n",
              "      <td>2015-10-08 13:42:00</td>\n",
              "      <td>BTCUSD</td>\n",
              "      <td>242.95</td>\n",
              "      <td>242.95</td>\n",
              "      <td>242.95</td>\n",
              "      <td>242.95</td>\n",
              "      <td>0.000000</td>\n",
              "    </tr>\n",
              "    <tr>\n",
              "      <th>2283517</th>\n",
              "      <td>1444311660</td>\n",
              "      <td>2015-10-08 13:41:00</td>\n",
              "      <td>BTCUSD</td>\n",
              "      <td>242.50</td>\n",
              "      <td>242.95</td>\n",
              "      <td>242.50</td>\n",
              "      <td>242.95</td>\n",
              "      <td>0.001000</td>\n",
              "    </tr>\n",
              "    <tr>\n",
              "      <th>2283518</th>\n",
              "      <td>1444311600</td>\n",
              "      <td>2015-10-08 13:40:00</td>\n",
              "      <td>BTCUSD</td>\n",
              "      <td>0.00</td>\n",
              "      <td>242.50</td>\n",
              "      <td>0.00</td>\n",
              "      <td>242.50</td>\n",
              "      <td>0.050000</td>\n",
              "    </tr>\n",
              "  </tbody>\n",
              "</table>\n",
              "<p>2283519 rows × 8 columns</p>\n",
              "</div>"
            ],
            "text/plain": [
              "         Unix Timestamp                 Date  ...    Close    Volume\n",
              "0         1586390400000  2020-04-09 00:00:00  ...  7350.41  7.733528\n",
              "1         1586390340000  2020-04-08 23:59:00  ...  7369.60  1.310954\n",
              "2         1586390280000  2020-04-08 23:58:00  ...  7364.37  1.018774\n",
              "3         1586390220000  2020-04-08 23:57:00  ...  7360.89  0.026251\n",
              "4         1586390160000  2020-04-08 23:56:00  ...  7357.62  0.444867\n",
              "...                 ...                  ...  ...      ...       ...\n",
              "2283514      1444311840  2015-10-08 13:44:00  ...   242.96  0.033491\n",
              "2283515      1444311780  2015-10-08 13:43:00  ...   242.96  0.010000\n",
              "2283516      1444311720  2015-10-08 13:42:00  ...   242.95  0.000000\n",
              "2283517      1444311660  2015-10-08 13:41:00  ...   242.95  0.001000\n",
              "2283518      1444311600  2015-10-08 13:40:00  ...   242.50  0.050000\n",
              "\n",
              "[2283519 rows x 8 columns]"
            ]
          },
          "metadata": {
            "tags": []
          },
          "execution_count": 19
        }
      ]
    },
    {
      "cell_type": "code",
      "metadata": {
        "id": "MQeczEyBg3lI"
      },
      "source": [
        "data2 = data.copy()"
      ],
      "execution_count": null,
      "outputs": []
    },
    {
      "cell_type": "code",
      "metadata": {
        "id": "dhKUJoEbZ53c"
      },
      "source": [
        "# Unix-time to \n",
        "data2['Unix Timestamp'] = pd.to_datetime(data2['Unix Timestamp'])"
      ],
      "execution_count": null,
      "outputs": []
    },
    {
      "cell_type": "code",
      "metadata": {
        "id": "CXMRR7bNgaLL"
      },
      "source": [
        "# Resampling to daily frequency\n",
        "data.index = data['Unix Timestamp']\n",
        "data = data.resample('D').mean()\n",
        "\n",
        "# Resampling to monthly frequency\n",
        "data_month = data.resample('M').mean()\n",
        "\n",
        "# Resampling to annual frequency\n",
        "data_year = data.resample('A-DEC').mean()\n",
        "\n",
        "# Resampling to quarterly frequency\n",
        "data_Q = data.resample('Q-DEC').mean()"
      ],
      "execution_count": null,
      "outputs": []
    },
    {
      "cell_type": "code",
      "metadata": {
        "colab": {
          "base_uri": "https://localhost:8080/",
          "height": 110
        },
        "id": "8fpvzHnyeqBd",
        "outputId": "d4030fef-2917-4d45-ec3e-ddb7000b7a42"
      },
      "source": [
        "data"
      ],
      "execution_count": null,
      "outputs": [
        {
          "output_type": "execute_result",
          "data": {
            "text/html": [
              "<div>\n",
              "<style scoped>\n",
              "    .dataframe tbody tr th:only-of-type {\n",
              "        vertical-align: middle;\n",
              "    }\n",
              "\n",
              "    .dataframe tbody tr th {\n",
              "        vertical-align: top;\n",
              "    }\n",
              "\n",
              "    .dataframe thead th {\n",
              "        text-align: right;\n",
              "    }\n",
              "</style>\n",
              "<table border=\"1\" class=\"dataframe\">\n",
              "  <thead>\n",
              "    <tr style=\"text-align: right;\">\n",
              "      <th></th>\n",
              "      <th>Open</th>\n",
              "      <th>High</th>\n",
              "      <th>Low</th>\n",
              "      <th>Close</th>\n",
              "      <th>Volume</th>\n",
              "    </tr>\n",
              "    <tr>\n",
              "      <th>Unix Timestamp</th>\n",
              "      <th></th>\n",
              "      <th></th>\n",
              "      <th></th>\n",
              "      <th></th>\n",
              "      <th></th>\n",
              "    </tr>\n",
              "  </thead>\n",
              "  <tbody>\n",
              "    <tr>\n",
              "      <th>1970-01-01</th>\n",
              "      <td>4736.699818</td>\n",
              "      <td>4738.833634</td>\n",
              "      <td>4734.626731</td>\n",
              "      <td>4736.704418</td>\n",
              "      <td>2.633344</td>\n",
              "    </tr>\n",
              "  </tbody>\n",
              "</table>\n",
              "</div>"
            ],
            "text/plain": [
              "                       Open         High          Low        Close    Volume\n",
              "Unix Timestamp                                                              \n",
              "1970-01-01      4736.699818  4738.833634  4734.626731  4736.704418  2.633344"
            ]
          },
          "metadata": {
            "tags": []
          },
          "execution_count": 36
        }
      ]
    },
    {
      "cell_type": "code",
      "metadata": {
        "colab": {
          "base_uri": "https://localhost:8080/",
          "height": 35
        },
        "id": "mnMg61qeZ_SV",
        "outputId": "ce4fd0c7-7b5c-40af-bda5-ce4aeb36dea3"
      },
      "source": [
        "fig = plt.figure(figsize=[15, 7])\n",
        "plt.suptitle('Bitcoin exchanges, mean USD', fontsize=22)\n",
        "\n",
        "plt.subplot(221)\n",
        "plt.plot(data.Close, '-', label='By Days')\n",
        "plt.legend()\n",
        "\n",
        "plt.subplot(222)\n",
        "plt.plot(df_month.Weighted_Price, '-', label='By Months')\n",
        "plt.legend()\n",
        "\n",
        "plt.subplot(223)\n",
        "plt.plot(df_Q.Weighted_Price, '-', label='By Quarters')\n",
        "plt.legend()\n",
        "\n",
        "plt.subplot(224)\n",
        "plt.plot(df_year.Weighted_Price, '-', label='By Years')\n",
        "plt.legend()\n",
        "\n",
        "plt.tight_layout()\n",
        "plt.show()"
      ],
      "execution_count": null,
      "outputs": [
        {
          "output_type": "display_data",
          "data": {
            "text/plain": [
              "<Figure size 1080x504 with 0 Axes>"
            ]
          },
          "metadata": {
            "tags": []
          }
        }
      ]
    },
    {
      "cell_type": "code",
      "metadata": {
        "id": "jbf4d8fxdZ2x"
      },
      "source": [
        ""
      ],
      "execution_count": null,
      "outputs": []
    }
  ]
}